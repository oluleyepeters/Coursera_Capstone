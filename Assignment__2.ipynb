{
 "cells": [
  {
   "cell_type": "markdown",
   "metadata": {},
   "source": [
    "<a href=\"https://cognitiveclass.ai\"><img src = \"https://ibm.box.com/shared/static/9gegpsmnsoo25ikkbl4qzlvlyjbgxs5x.png\" width = 400> </a>\n",
    "\n",
    "<h1 align=center><font size = 5>Segmenting and Clustering Neighborhoods in New York City</font></h1>"
   ]
  },
  {
   "cell_type": "markdown",
   "metadata": {},
   "source": [
    "## Introduction\n",
    "\n",
    "In this lab, you will learn how to convert addresses into their equivalent latitude and longitude values. Also, you will use the Foursquare API to explore neighborhoods in New York City. You will use the **explore** function to get the most common venue categories in each neighborhood, and then use this feature to group the neighborhoods into clusters. You will use the *k*-means clustering algorithm to complete this task. Finally, you will use the Folium library to visualize the neighborhoods in New York City and their emerging clusters."
   ]
  },
  {
   "cell_type": "markdown",
   "metadata": {},
   "source": [
    "## Table of Contents\n",
    "\n",
    "<div class=\"alert alert-block alert-info\" style=\"margin-top: 20px\">\n",
    "\n",
    "<font size = 3>\n",
    "\n",
    "1. <a href=\"#item1\">Download and Explore Dataset</a>\n",
    "\n",
    "2. <a href=\"#item2\">Explore Neighborhoods in New York City</a>\n",
    "\n",
    "3. <a href=\"#item3\">Analyze Each Neighborhood</a>\n",
    "\n",
    "4. <a href=\"#item4\">Cluster Neighborhoods</a>\n",
    "\n",
    "5. <a href=\"#item5\">Examine Clusters</a>    \n",
    "</font>\n",
    "</div>"
   ]
  },
  {
   "cell_type": "markdown",
   "metadata": {},
   "source": [
    "Before we get the data and start exploring it, let's download all the dependencies that we will need."
   ]
  },
  {
   "cell_type": "code",
   "execution_count": 5,
   "metadata": {
    "collapsed": false,
    "jupyter": {
     "outputs_hidden": false
    }
   },
   "outputs": [
    {
     "name": "stdout",
     "output_type": "stream",
     "text": [
      "Libraries imported.\n"
     ]
    }
   ],
   "source": [
    "# import numpy as np # library to handle data in a vectorized manner\n",
    "\n",
    "import pandas as pd # library for data analsysis\n",
    "pd.set_option('display.max_columns', None)\n",
    "pd.set_option('display.max_rows', None)\n",
    "\n",
    "import json # library to handle JSON files\n",
    "\n",
    "# !conda install -c conda-forge geopy --yes # uncomment this line if you haven't completed the Foursquare API lab\n",
    "from geopy.geocoders import Nominatim # convert an address into latitude and longitude values\n",
    "\n",
    "import requests # library to handle requests\n",
    "from pandas.io.json import json_normalize # tranform JSON file into a pandas dataframe\n",
    "\n",
    "# Matplotlib and associated plotting modules\n",
    "import matplotlib.cm as cm\n",
    "import matplotlib.colors as colors\n",
    "\n",
    "# import k-means from clustering stage\n",
    "from sklearn.cluster import KMeans\n",
    "\n",
    "# !conda install -c conda-forge folium=0.5.0 --yes # uncomment this line if you haven't completed the Foursquare API lab\n",
    "import folium # map rendering library\n",
    "\n",
    "print('Libraries imported.')"
   ]
  },
  {
   "cell_type": "markdown",
   "metadata": {},
   "source": [
    "<a id='item1'></a>"
   ]
  },
  {
   "cell_type": "markdown",
   "metadata": {},
   "source": [
    "## 1. Download and Explore Dataset"
   ]
  },
  {
   "cell_type": "markdown",
   "metadata": {},
   "source": [
    "Neighborhood has a total of 5 boroughs and 306 neighborhoods. In order to segement the neighborhoods and explore them, we will essentially need a dataset that contains the 5 boroughs and the neighborhoods that exist in each borough as well as the the latitude and logitude coordinates of each neighborhood. \n",
    "\n",
    "Luckily, this dataset exists for free on the web. Feel free to try to find this dataset on your own, but here is the link to the dataset: https://geo.nyu.edu/catalog/nyu_2451_34572"
   ]
  },
  {
   "cell_type": "markdown",
   "metadata": {},
   "source": [
    "For your convenience, I downloaded the files and placed it on the server, so you can simply run a `wget` command and access the data. So let's go ahead and do that."
   ]
  },
  {
   "cell_type": "code",
   "execution_count": 6,
   "metadata": {
    "collapsed": false,
    "jupyter": {
     "outputs_hidden": false
    },
    "scrolled": true
   },
   "outputs": [
    {
     "name": "stdout",
     "output_type": "stream",
     "text": [
      "Data downloaded!\n"
     ]
    }
   ],
   "source": [
    "!wget -q -O 'newyork_data.json' https://cocl.us/new_york_dataset\n",
    "print('Data downloaded!')"
   ]
  },
  {
   "cell_type": "markdown",
   "metadata": {},
   "source": [
    "#### Load and explore the data"
   ]
  },
  {
   "cell_type": "markdown",
   "metadata": {},
   "source": [
    "Next, let's load the data."
   ]
  },
  {
   "cell_type": "code",
   "execution_count": 7,
   "metadata": {
    "collapsed": false,
    "jupyter": {
     "outputs_hidden": false
    }
   },
   "outputs": [],
   "source": [
    "with open('newyork_data.json') as json_data:\n",
    "    newyork_data = json.load(json_data)"
   ]
  },
  {
   "cell_type": "markdown",
   "metadata": {},
   "source": [
    "Let's take a quick look at the data."
   ]
  },
  {
   "cell_type": "markdown",
   "metadata": {},
   "source": [
    "Notice how all the relevant data is in the *features* key, which is basically a list of the neighborhoods. So, let's define a new variable that includes this data."
   ]
  },
  {
   "cell_type": "code",
   "execution_count": 8,
   "metadata": {},
   "outputs": [],
   "source": [
    "neighborhoods_data = newyork_data['features']"
   ]
  },
  {
   "cell_type": "markdown",
   "metadata": {},
   "source": [
    "Let's take a look at the first item in this list."
   ]
  },
  {
   "cell_type": "markdown",
   "metadata": {},
   "source": [
    "#### Tranform the data into a *pandas* dataframe"
   ]
  },
  {
   "cell_type": "markdown",
   "metadata": {},
   "source": [
    "The next task is essentially transforming this data of nested Python dictionaries into a *pandas* dataframe. So let's start by creating an empty dataframe."
   ]
  },
  {
   "cell_type": "code",
   "execution_count": 9,
   "metadata": {},
   "outputs": [],
   "source": [
    "# define the dataframe columns\n",
    "column_names = ['Borough', 'Neighborhood', 'Latitude', 'Longitude'] \n",
    "\n",
    "# instantiate the dataframe\n",
    "neighborhoods = pd.DataFrame(columns=column_names)"
   ]
  },
  {
   "cell_type": "markdown",
   "metadata": {},
   "source": [
    "Take a look at the empty dataframe to confirm that the columns are as intended."
   ]
  },
  {
   "cell_type": "code",
   "execution_count": 10,
   "metadata": {
    "collapsed": false,
    "jupyter": {
     "outputs_hidden": false
    }
   },
   "outputs": [
    {
     "data": {
      "text/html": [
       "<div>\n",
       "<style scoped>\n",
       "    .dataframe tbody tr th:only-of-type {\n",
       "        vertical-align: middle;\n",
       "    }\n",
       "\n",
       "    .dataframe tbody tr th {\n",
       "        vertical-align: top;\n",
       "    }\n",
       "\n",
       "    .dataframe thead th {\n",
       "        text-align: right;\n",
       "    }\n",
       "</style>\n",
       "<table border=\"1\" class=\"dataframe\">\n",
       "  <thead>\n",
       "    <tr style=\"text-align: right;\">\n",
       "      <th></th>\n",
       "      <th>Borough</th>\n",
       "      <th>Neighborhood</th>\n",
       "      <th>Latitude</th>\n",
       "      <th>Longitude</th>\n",
       "    </tr>\n",
       "  </thead>\n",
       "  <tbody>\n",
       "  </tbody>\n",
       "</table>\n",
       "</div>"
      ],
      "text/plain": [
       "Empty DataFrame\n",
       "Columns: [Borough, Neighborhood, Latitude, Longitude]\n",
       "Index: []"
      ]
     },
     "execution_count": 10,
     "metadata": {},
     "output_type": "execute_result"
    }
   ],
   "source": [
    "neighborhoods"
   ]
  },
  {
   "cell_type": "markdown",
   "metadata": {},
   "source": [
    "Then let's loop through the data and fill the dataframe one row at a time."
   ]
  },
  {
   "cell_type": "code",
   "execution_count": 11,
   "metadata": {
    "collapsed": false,
    "jupyter": {
     "outputs_hidden": false
    }
   },
   "outputs": [],
   "source": [
    "for data in neighborhoods_data:\n",
    "    borough_name = data['properties']['borough'] \n",
    "    neighborhood_name = data['properties']['name']\n",
    "        \n",
    "    neighborhood_latlon = data['geometry']['coordinates']\n",
    "    neighborhood_lat = neighborhood_latlon[1]\n",
    "    neighborhood_lon = neighborhood_latlon[0]\n",
    "    \n",
    "    neighborhoods = neighborhoods.append({'Borough': borough_name,\n",
    "                                          'Neighborhood': neighborhood_name,\n",
    "                                          'Latitude': neighborhood_lat,\n",
    "                                          'Longitude': neighborhood_lon}, ignore_index=True)"
   ]
  },
  {
   "cell_type": "markdown",
   "metadata": {},
   "source": [
    "Quickly examine the resulting dataframe."
   ]
  },
  {
   "cell_type": "markdown",
   "metadata": {},
   "source": [
    "And make sure that the dataset has all 5 boroughs and 306 neighborhoods."
   ]
  },
  {
   "cell_type": "markdown",
   "metadata": {},
   "source": [
    "**Folium** is a great visualization library. Feel free to zoom into the above map, and click on each circle mark to reveal the name of the neighborhood and its respective borough."
   ]
  },
  {
   "cell_type": "markdown",
   "metadata": {},
   "source": [
    "The data to be used for the map will be the neighborhoods in the Bronx Borough\n",
    "The Line of code below creates a dataframe for the neighborhoods in the bronx borough"
   ]
  },
  {
   "cell_type": "code",
   "execution_count": null,
   "metadata": {
    "collapsed": false,
    "jupyter": {
     "outputs_hidden": false
    }
   },
   "outputs": [],
   "source": [
    "Bronx_data = neighborhoods[neighborhoods['Borough'] == 'Bronx'].reset_index(drop=True)\n",
    "Bronx_data.head()"
   ]
  },
  {
   "cell_type": "markdown",
   "metadata": {},
   "source": [
    "#### Define Foursquare Credentials and Version\n",
    "The defined credential will enable fetching of  location data "
   ]
  },
  {
   "cell_type": "code",
   "execution_count": 15,
   "metadata": {
    "collapsed": false,
    "jupyter": {
     "outputs_hidden": false
    }
   },
   "outputs": [],
   "source": [
    "# This keys that i am inputing here are the generated client secret and id that have been provided for me by Foursquare\n",
    "CLIENT_ID = 'FXCEBGKMJDFN5SGMZFYAL11BNRMYU3GTWKUOU05PEYB44SHV' \n",
    "CLIENT_SECRET = 'ABRGQYYUJQDZDV4WLADVY0MHB2Z0HB540WMY5OBY1HJG1H1K' \n",
    "VERSION = '20180605'"
   ]
  },
  {
   "cell_type": "markdown",
   "metadata": {},
   "source": [
    "<a id='item2'></a>"
   ]
  },
  {
   "cell_type": "markdown",
   "metadata": {},
   "source": [
    "## 2. Explore Neighborhoods in Bronx"
   ]
  },
  {
   "cell_type": "code",
   "execution_count": 32,
   "metadata": {},
   "outputs": [],
   "source": [
    "def getNearbyVenues(names, latitudes, longitudes, radius=500):\n",
    "    \n",
    "    venues_list=[]\n",
    "    LIMIT = 1000\n",
    "    radius = 10000\n",
    "\n",
    "    for name, lat, lng in zip(names, latitudes, longitudes):\n",
    "        print(name)\n",
    "            \n",
    "        # create the API request URL\n",
    "        url = 'https://api.foursquare.com/v2/venues/explore?&client_id={}&client_secret={}&v={}&ll={},{}&radius={}&limit={}'.format(\n",
    "            CLIENT_ID, \n",
    "            CLIENT_SECRET, \n",
    "            VERSION, \n",
    "            lat, \n",
    "            lng, \n",
    "            radius, \n",
    "            LIMIT)\n",
    "            \n",
    "        # make the GET request\n",
    "        results = requests.get(url).json()[\"response\"]['groups'][0]['items']\n",
    "        \n",
    "        # return only relevant information for each nearby venue\n",
    "        venues_list.append([(\n",
    "            name, \n",
    "            lat, \n",
    "            lng, \n",
    "            v['venue']['name'], \n",
    "            v['venue']['location']['lat'], \n",
    "            v['venue']['location']['lng'],  \n",
    "            v['venue']['categories'][0]['name']) for v in results])\n",
    "\n",
    "    nearby_venues = pd.DataFrame([item for venue_list in venues_list for item in venue_list])\n",
    "    nearby_venues.columns = ['Neighborhood', \n",
    "                  'Neighborhood Latitude', \n",
    "                  'Neighborhood Longitude', \n",
    "                  'Venue', \n",
    "                  'Venue Latitude', \n",
    "                  'Venue Longitude', \n",
    "                  'Venue Category']\n",
    "    \n",
    "    return(nearby_venues)"
   ]
  },
  {
   "cell_type": "code",
   "execution_count": 33,
   "metadata": {},
   "outputs": [
    {
     "name": "stdout",
     "output_type": "stream",
     "text": [
      "Wakefield\n",
      "Co-op City\n",
      "Eastchester\n",
      "Fieldston\n",
      "Riverdale\n",
      "Kingsbridge\n",
      "Woodlawn\n",
      "Norwood\n",
      "Williamsbridge\n",
      "Baychester\n",
      "Pelham Parkway\n",
      "City Island\n",
      "Bedford Park\n",
      "University Heights\n",
      "Morris Heights\n",
      "Fordham\n",
      "East Tremont\n",
      "West Farms\n",
      "High  Bridge\n",
      "Melrose\n",
      "Mott Haven\n",
      "Port Morris\n",
      "Longwood\n",
      "Hunts Point\n",
      "Morrisania\n",
      "Soundview\n",
      "Clason Point\n",
      "Throgs Neck\n",
      "Country Club\n",
      "Parkchester\n",
      "Westchester Square\n",
      "Van Nest\n",
      "Morris Park\n",
      "Belmont\n",
      "Spuyten Duyvil\n",
      "North Riverdale\n",
      "Pelham Bay\n",
      "Schuylerville\n",
      "Edgewater Park\n",
      "Castle Hill\n",
      "Olinville\n",
      "Pelham Gardens\n",
      "Concourse\n",
      "Unionport\n",
      "Edenwald\n",
      "Claremont Village\n",
      "Concourse Village\n",
      "Mount Eden\n",
      "Mount Hope\n",
      "Bronxdale\n",
      "Allerton\n",
      "Kingsbridge Heights\n"
     ]
    }
   ],
   "source": [
    "#### Now write the code to run the above function on each neighborhood and create a new dataframe called *bronx_venues*.\n",
    "\n",
    "bronx_venues = getNearbyVenues(names=Bronx_data['Neighborhood'],\n",
    "                                   latitudes=Bronx_data['Latitude'],\n",
    "                                   longitudes=Bronx_data['Longitude']\n",
    "                                  )"
   ]
  },
  {
   "cell_type": "markdown",
   "metadata": {},
   "source": [
    "#### Let's check the size of the resulting dataframe"
   ]
  },
  {
   "cell_type": "code",
   "execution_count": 34,
   "metadata": {
    "collapsed": false,
    "jupyter": {
     "outputs_hidden": false
    }
   },
   "outputs": [
    {
     "name": "stdout",
     "output_type": "stream",
     "text": [
      "(1209, 7)\n"
     ]
    },
    {
     "data": {
      "text/html": [
       "<div>\n",
       "<style scoped>\n",
       "    .dataframe tbody tr th:only-of-type {\n",
       "        vertical-align: middle;\n",
       "    }\n",
       "\n",
       "    .dataframe tbody tr th {\n",
       "        vertical-align: top;\n",
       "    }\n",
       "\n",
       "    .dataframe thead th {\n",
       "        text-align: right;\n",
       "    }\n",
       "</style>\n",
       "<table border=\"1\" class=\"dataframe\">\n",
       "  <thead>\n",
       "    <tr style=\"text-align: right;\">\n",
       "      <th></th>\n",
       "      <th>Neighborhood</th>\n",
       "      <th>Neighborhood Latitude</th>\n",
       "      <th>Neighborhood Longitude</th>\n",
       "      <th>Venue</th>\n",
       "      <th>Venue Latitude</th>\n",
       "      <th>Venue Longitude</th>\n",
       "      <th>Venue Category</th>\n",
       "    </tr>\n",
       "  </thead>\n",
       "  <tbody>\n",
       "    <tr>\n",
       "      <th>0</th>\n",
       "      <td>Wakefield</td>\n",
       "      <td>40.894705</td>\n",
       "      <td>-73.847201</td>\n",
       "      <td>Lollipops Gelato</td>\n",
       "      <td>40.894123</td>\n",
       "      <td>-73.845892</td>\n",
       "      <td>Dessert Shop</td>\n",
       "    </tr>\n",
       "    <tr>\n",
       "      <th>1</th>\n",
       "      <td>Wakefield</td>\n",
       "      <td>40.894705</td>\n",
       "      <td>-73.847201</td>\n",
       "      <td>Rite Aid</td>\n",
       "      <td>40.896649</td>\n",
       "      <td>-73.844846</td>\n",
       "      <td>Pharmacy</td>\n",
       "    </tr>\n",
       "    <tr>\n",
       "      <th>2</th>\n",
       "      <td>Wakefield</td>\n",
       "      <td>40.894705</td>\n",
       "      <td>-73.847201</td>\n",
       "      <td>Carvel Ice Cream</td>\n",
       "      <td>40.890487</td>\n",
       "      <td>-73.848568</td>\n",
       "      <td>Ice Cream Shop</td>\n",
       "    </tr>\n",
       "    <tr>\n",
       "      <th>3</th>\n",
       "      <td>Wakefield</td>\n",
       "      <td>40.894705</td>\n",
       "      <td>-73.847201</td>\n",
       "      <td>Shell</td>\n",
       "      <td>40.894187</td>\n",
       "      <td>-73.845862</td>\n",
       "      <td>Gas Station</td>\n",
       "    </tr>\n",
       "    <tr>\n",
       "      <th>4</th>\n",
       "      <td>Wakefield</td>\n",
       "      <td>40.894705</td>\n",
       "      <td>-73.847201</td>\n",
       "      <td>Dunkin'</td>\n",
       "      <td>40.890459</td>\n",
       "      <td>-73.849089</td>\n",
       "      <td>Donut Shop</td>\n",
       "    </tr>\n",
       "  </tbody>\n",
       "</table>\n",
       "</div>"
      ],
      "text/plain": [
       "  Neighborhood  Neighborhood Latitude  Neighborhood Longitude  \\\n",
       "0    Wakefield              40.894705              -73.847201   \n",
       "1    Wakefield              40.894705              -73.847201   \n",
       "2    Wakefield              40.894705              -73.847201   \n",
       "3    Wakefield              40.894705              -73.847201   \n",
       "4    Wakefield              40.894705              -73.847201   \n",
       "\n",
       "              Venue  Venue Latitude  Venue Longitude  Venue Category  \n",
       "0  Lollipops Gelato       40.894123       -73.845892    Dessert Shop  \n",
       "1          Rite Aid       40.896649       -73.844846        Pharmacy  \n",
       "2  Carvel Ice Cream       40.890487       -73.848568  Ice Cream Shop  \n",
       "3             Shell       40.894187       -73.845862     Gas Station  \n",
       "4           Dunkin'       40.890459       -73.849089      Donut Shop  "
      ]
     },
     "execution_count": 34,
     "metadata": {},
     "output_type": "execute_result"
    }
   ],
   "source": [
    "print(bronx_venues.shape)\n",
    "bronx_venues.head()"
   ]
  },
  {
   "cell_type": "markdown",
   "metadata": {},
   "source": [
    "Let's check how many venues were returned for each neighborhood"
   ]
  },
  {
   "cell_type": "markdown",
   "metadata": {},
   "source": [
    "#### Let's find out how many unique categories can be curated from all the returned venues"
   ]
  },
  {
   "cell_type": "code",
   "execution_count": 43,
   "metadata": {
    "collapsed": false,
    "jupyter": {
     "outputs_hidden": false
    }
   },
   "outputs": [
    {
     "name": "stdout",
     "output_type": "stream",
     "text": [
      "There are 175 uniques categories.\n"
     ]
    },
    {
     "data": {
      "text/plain": [
       "Pizza Place                        95\n",
       "Deli / Bodega                      55\n",
       "Donut Shop                         46\n",
       "Italian Restaurant                 41\n",
       "Sandwich Place                     41\n",
       "Pharmacy                           40\n",
       "Supermarket                        38\n",
       "Chinese Restaurant                 34\n",
       "Bank                               34\n",
       "Fast Food Restaurant               32\n",
       "Spanish Restaurant                 31\n",
       "Bus Station                        29\n",
       "Grocery Store                      26\n",
       "Mexican Restaurant                 24\n",
       "Diner                              23\n",
       "Park                               23\n",
       "Discount Store                     19\n",
       "Bakery                             18\n",
       "Coffee Shop                        17\n",
       "Bar                                17\n",
       "Ice Cream Shop                     17\n",
       "Latin American Restaurant          16\n",
       "Gym                                15\n",
       "Liquor Store                       15\n",
       "Caribbean Restaurant               15\n",
       "Fried Chicken Joint                14\n",
       "American Restaurant                11\n",
       "Gym / Fitness Center               11\n",
       "Mobile Phone Shop                  11\n",
       "Convenience Store                  10\n",
       "Cosmetics Shop                     10\n",
       "Shoe Store                          9\n",
       "Juice Bar                           9\n",
       "Café                                8\n",
       "Plaza                               8\n",
       "Bus Stop                            8\n",
       "Pub                                 8\n",
       "Baseball Field                      8\n",
       "Playground                          8\n",
       "Seafood Restaurant                  7\n",
       "Restaurant                          7\n",
       "Asian Restaurant                    7\n",
       "Food Truck                          7\n",
       "Food & Drink Shop                   7\n",
       "Metro Station                       7\n",
       "Electronics Store                   6\n",
       "Video Game Store                    6\n",
       "Burger Joint                        6\n",
       "Supplement Shop                     6\n",
       "Intersection                        5\n",
       "Gas Station                         5\n",
       "Spa                                 5\n",
       "Food                                5\n",
       "Breakfast Spot                      5\n",
       "Dessert Shop                        5\n",
       "Department Store                    5\n",
       "Bus Line                            5\n",
       "Sports Bar                          4\n",
       "Smoke Shop                          4\n",
       "Fish Market                         4\n",
       "Mattress Store                      4\n",
       "Sporting Goods Shop                 4\n",
       "Art Gallery                         4\n",
       "Rental Car Location                 4\n",
       "Lounge                              4\n",
       "Martial Arts Dojo                   4\n",
       "Boat or Ferry                       3\n",
       "Indian Restaurant                   3\n",
       "Thrift / Vintage Store              3\n",
       "Paper / Office Supplies Store       3\n",
       "Bagel Shop                          3\n",
       "Laundromat                          3\n",
       "Harbor / Marina                     3\n",
       "Gift Shop                           3\n",
       "Hotel                               3\n",
       "Kids Store                          3\n",
       "Eastern European Restaurant         3\n",
       "Salon / Barbershop                  3\n",
       "Shipping Store                      3\n",
       "Gourmet Shop                        3\n",
       "Pet Store                           3\n",
       "Wings Joint                         3\n",
       "Fish & Chips Shop                   3\n",
       "Japanese Restaurant                 3\n",
       "Music Venue                         3\n",
       "Clothing Store                      3\n",
       "Market                              3\n",
       "BBQ Joint                           2\n",
       "African Restaurant                  2\n",
       "Basketball Court                    2\n",
       "Thai Restaurant                     2\n",
       "Buffet                              2\n",
       "Southern / Soul Food Restaurant     2\n",
       "Furniture / Home Store              2\n",
       "Performing Arts Venue               2\n",
       "Men's Store                         2\n",
       "Frozen Yogurt Shop                  2\n",
       "Pool                                2\n",
       "Accessories Store                   2\n",
       "Storage Facility                    2\n",
       "Peruvian Restaurant                 2\n",
       "Check Cashing Service               2\n",
       "History Museum                      2\n",
       "Hookah Bar                          2\n",
       "Train Station                       2\n",
       "Bowling Alley                       2\n",
       "Miscellaneous Shop                  2\n",
       "Home Service                        2\n",
       "Sushi Restaurant                    2\n",
       "Building                            1\n",
       "Trail                               1\n",
       "Shopping Mall                       1\n",
       "Scenic Lookout                      1\n",
       "Hobby Shop                          1\n",
       "French Restaurant                   1\n",
       "Flower Shop                         1\n",
       "Other Great Outdoors                1\n",
       "Warehouse Store                     1\n",
       "Greek Restaurant                    1\n",
       "Candy Store                         1\n",
       "School                              1\n",
       "Lawyer                              1\n",
       "Indie Theater                       1\n",
       "Brewery                             1\n",
       "Eye Doctor                          1\n",
       "Event Space                         1\n",
       "IT Services                         1\n",
       "Cafeteria                           1\n",
       "Cupcake Shop                        1\n",
       "Distillery                          1\n",
       "Recreation Center                   1\n",
       "Outdoor Sculpture                   1\n",
       "Paella Restaurant                   1\n",
       "Piano Bar                           1\n",
       "Vietnamese Restaurant               1\n",
       "Platform                            1\n",
       "Lake                                1\n",
       "Doctor's Office                     1\n",
       "Art Museum                          1\n",
       "South American Restaurant           1\n",
       "Nightclub                           1\n",
       "Comfort Food Restaurant             1\n",
       "High School                         1\n",
       "Track                               1\n",
       "Women's Store                       1\n",
       "Outlet Store                        1\n",
       "Athletics & Sports                  1\n",
       "Middle Eastern Restaurant           1\n",
       "Soup Place                          1\n",
       "Video Store                         1\n",
       "Dive Bar                            1\n",
       "Tennis Stadium                      1\n",
       "Tennis Court                        1\n",
       "Board Shop                          1\n",
       "Farmers Market                      1\n",
       "Jewelry Store                       1\n",
       "Boutique                            1\n",
       "Waste Facility                      1\n",
       "Cheese Shop                         1\n",
       "Arepa Restaurant                    1\n",
       "River                               1\n",
       "Tattoo Parlor                       1\n",
       "Automotive Shop                     1\n",
       "Road                                1\n",
       "New American Restaurant             1\n",
       "Moving Target                       1\n",
       "Antique Shop                        1\n",
       "Construction & Landscaping          1\n",
       "Bookstore                           1\n",
       "Historic Site                       1\n",
       "Dance Studio                        1\n",
       "Perfume Shop                        1\n",
       "Social Club                         1\n",
       "Beer Bar                            1\n",
       "Arcade                              1\n",
       "Name: Venue Category, dtype: int64"
      ]
     },
     "execution_count": 43,
     "metadata": {},
     "output_type": "execute_result"
    }
   ],
   "source": [
    "print('There are {} uniques categories.'.format(len(bronx_venues['Venue Category'].unique())))\n",
    "bronx_venues['Venue Category'].value_counts()"
   ]
  },
  {
   "cell_type": "markdown",
   "metadata": {},
   "source": [
    "##### Dropping all venues that are cofee stores\n",
    "This is done because my client is trying to site a coffee store and we cannot locate a coffee store on another coffee store\n",
    "I also grouped the data based on the neighborhoods\n",
    "I then selected the top 100 venues "
   ]
  },
  {
   "cell_type": "code",
   "execution_count": 51,
   "metadata": {},
   "outputs": [],
   "source": [
    "bronx_venues.drop(bronx_venues[bronx_venues['Venue Category'] == 'Coffee Shop'].index, axis = 0, inplace = True)\n",
    "bronx_data_sorted = bronx_venues[0:100]\n",
    "bronx_grouped = bronx_data_sorted.groupby('Neighborhood').count().reset_index()"
   ]
  },
  {
   "cell_type": "code",
   "execution_count": 55,
   "metadata": {},
   "outputs": [],
   "source": [
    "Bronx_Neighbourhoods = bronx_grouped[['Neighborhood','Venue Category']]"
   ]
  },
  {
   "cell_type": "markdown",
   "metadata": {},
   "source": [
    "##### The top 100 venues in Bronx borough are spread across five different Neighborhoods and this will be the starting points for the cofee business"
   ]
  },
  {
   "cell_type": "code",
   "execution_count": 62,
   "metadata": {},
   "outputs": [
    {
     "data": {
      "text/html": [
       "<div>\n",
       "<style scoped>\n",
       "    .dataframe tbody tr th:only-of-type {\n",
       "        vertical-align: middle;\n",
       "    }\n",
       "\n",
       "    .dataframe tbody tr th {\n",
       "        vertical-align: top;\n",
       "    }\n",
       "\n",
       "    .dataframe thead th {\n",
       "        text-align: right;\n",
       "    }\n",
       "</style>\n",
       "<table border=\"1\" class=\"dataframe\">\n",
       "  <thead>\n",
       "    <tr style=\"text-align: right;\">\n",
       "      <th></th>\n",
       "      <th>Neighborhood</th>\n",
       "      <th>Count</th>\n",
       "    </tr>\n",
       "  </thead>\n",
       "  <tbody>\n",
       "    <tr>\n",
       "      <th>0</th>\n",
       "      <td>Co-op City</td>\n",
       "      <td>19</td>\n",
       "    </tr>\n",
       "    <tr>\n",
       "      <th>1</th>\n",
       "      <td>Eastchester</td>\n",
       "      <td>24</td>\n",
       "    </tr>\n",
       "    <tr>\n",
       "      <th>2</th>\n",
       "      <td>Fieldston</td>\n",
       "      <td>3</td>\n",
       "    </tr>\n",
       "    <tr>\n",
       "      <th>3</th>\n",
       "      <td>Kingsbridge</td>\n",
       "      <td>35</td>\n",
       "    </tr>\n",
       "    <tr>\n",
       "      <th>4</th>\n",
       "      <td>Riverdale</td>\n",
       "      <td>11</td>\n",
       "    </tr>\n",
       "  </tbody>\n",
       "</table>\n",
       "</div>"
      ],
      "text/plain": [
       "  Neighborhood  Count\n",
       "0   Co-op City     19\n",
       "1  Eastchester     24\n",
       "2    Fieldston      3\n",
       "3  Kingsbridge     35\n",
       "4    Riverdale     11"
      ]
     },
     "execution_count": 62,
     "metadata": {},
     "output_type": "execute_result"
    }
   ],
   "source": [
    "Bronx_Neighbourhoods.rename(columns={'Venue Category':'Count'}, inplace=True)\n",
    "Bronx_Neighbourhoods.head()"
   ]
  },
  {
   "cell_type": "markdown",
   "metadata": {},
   "source": [
    "<a id='item3'></a>"
   ]
  },
  {
   "cell_type": "markdown",
   "metadata": {},
   "source": [
    "## 3. Exploratory Analysis of Grouped Locations"
   ]
  },
  {
   "cell_type": "code",
   "execution_count": 57,
   "metadata": {
    "collapsed": false,
    "jupyter": {
     "outputs_hidden": false
    }
   },
   "outputs": [
    {
     "name": "stdout",
     "output_type": "stream",
     "text": [
      "Matplotlib version:  3.1.1\n"
     ]
    }
   ],
   "source": [
    "%matplotlib inline\n",
    "\n",
    "import matplotlib as mpl\n",
    "import matplotlib.pyplot as plt\n",
    "\n",
    "mpl.style.use('ggplot') # optional: for ggplot-like style\n",
    "\n",
    "# check for latest version of Matplotlib\n",
    "print('Matplotlib version: ', mpl.__version__) # >= 2.0.0"
   ]
  },
  {
   "cell_type": "markdown",
   "metadata": {},
   "source": [
    "And let's examine the new dataframe size."
   ]
  },
  {
   "cell_type": "code",
   "execution_count": 64,
   "metadata": {},
   "outputs": [
    {
     "data": {
      "image/png": "[encoded data removed]",
      "text/plain": [
       "<Figure size 1080x432 with 1 Axes>"
      ]
     },
     "metadata": {},
     "output_type": "display_data"
    }
   ],
   "source": [
    "colors_list = ['gold', 'yellowgreen', 'lightcoral', 'lightskyblue', 'lightgreen']\n",
    "explode_list = [0.1, 0, 0, 0, 0.1, 0.1]\n",
    "Bronx_Neighbourhoods['Count'].plot(kind='pie',\n",
    "                            figsize=(15, 6),\n",
    "                            autopct='%1.1f%%', \n",
    "                            startangle=90,    \n",
    "                            shadow=True,       \n",
    "                            labels=None,       \n",
    "                            pctdistance=1.12,   \n",
    "                            colors=colors_list,\n",
    "                            explode=explode_list \n",
    "                                  )\n",
    "\n",
    "# scale the title up by 12% to match pctdistance\n",
    "plt.title('Numbers of Neighbourhood with Important Venues in Bronx', y=1.12) \n",
    "\n",
    "plt.axis('equal') \n",
    "\n",
    "# add legend\n",
    "plt.legend(labels=Bronx_Neighbourhoods['Neighborhood'], loc='upper left') \n",
    "\n",
    "plt.show()"
   ]
  }
 ],
 "metadata": {
  "kernelspec": {
   "display_name": "Python",
   "language": "python",
   "name": "conda-env-python-py"
  },
  "language_info": {
   "codemirror_mode": {
    "name": "ipython",
    "version": 3
   },
   "file_extension": ".py",
   "mimetype": "text/x-python",
   "name": "python",
   "nbconvert_exporter": "python",
   "pygments_lexer": "ipython3",
   "version": "3.6.7"
  },
  "widgets": {
   "state": {},
   "version": "1.1.2"
  }
 },
 "nbformat": 4,
 "nbformat_minor": 4
}
